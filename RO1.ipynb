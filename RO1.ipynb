{
 "cells": [
  {
   "cell_type": "code",
   "execution_count": 1,
   "metadata": {},
   "outputs": [],
   "source": [
    "import networkx as nx\n",
    "import matplotlib.pyplot as plt\n",
    "import gmplot\n",
    "import folium\n",
    "import ipywidgets\n",
    "import heapq\n",
    "import math\n",
    "import tkinter as tk\n",
    "import nbimporter \n"
   ]
  },
  {
   "attachments": {},
   "cell_type": "markdown",
   "metadata": {},
   "source": [
    "**Graph avec networkx**"
   ]
  },
  {
   "cell_type": "code",
   "execution_count": 2,
   "metadata": {},
   "outputs": [],
   "source": [
    "adjacencies = {\n",
    "   'Genève': {'Vaud': 65.0},\n",
    "   #il existe une autre distance pour berne et fribourg\n",
    "    'Vaud': {'Berne':[105.2,116.1,121.6],'Valais':148.9, 'Fribourg':[86.2,81.8,82.1], 'Neuchâtel':69.2},\n",
    "    'Valais': {'Berne':[200.1,133.0,243.6], 'uri':[148.3,226.4,368.5], 'Tessin':[177.8,250.7]},\n",
    "    'Fribourg': {'Berne':35.4},\n",
    "    'Neuchâtel': {'Jura':[68.9,68.7,97.5],'Berne':[52.3,69.9]},\n",
    "    'Jura':{'Solothurn':[61.0,68.9]},\n",
    "    'Berne': {'uri':[172.3,170.3,158.8],'Jura':[106.7,109.9],'Solothurn':[41.1,37.7,40.7], 'Luzern':[190.9,96.4,124.0],'obwalden':[132.7,102.8,96.2],'nidwalden':[128.6,126.6,115.1]},\n",
    "    'Solothurn': {'Basel-Landschaft':[45.6,45.8,45.0],'Aargau':68.4,'Luzern':[82.0,85.7]},\n",
    "    'Basel-Landschaft': {'Aargau':[60.1,66.7,63.3], 'Basel-Stadt':26.1},\n",
    "    'Aargau': {'Luzern':[61.7,49.8,49.0], 'Zürich':[36.6,44.7,35.5], 'zug':[43.4,39.2,59.8],'Basel-Stadt':[70.2,83.6,72.1]},\n",
    "    'Zürich': {'schaffhausen':[52.7,46.4,52.5],'thurgau':[64.5,75.1],'st.Gallen':[86.2,82.8,97.3],'zug':[33.8,31.5,29.8],'schwyz':[59.7,54.5,64.2]},\n",
    "    'thurgau': {'st.Gallen':[34.4,41.4,41.8],'schaffhausen':[69.0,55.7,47.5]},\n",
    "    'st.Gallen': {'graubunden':[140.7,174.2],'Glarus':[88.6,124.3,96.9],'schwyz':[114.1,151.4,168.5]},\n",
    "    'Glarus': {'graubunden':[107.8,102.3],'schwyz':[66.4,101.1],'uri':[111.1,142.3,155.9]},\n",
    "    'schwyz': {'uri':43.7,'nidwalden':[46.5,63.6],'Luzern':[45.3,34.8],'zug':[25.8,37.9,28.3]},\n",
    "    'uri': {'graubunden':[196.7,184.4],'Tessin':126.4,'nidwalden':53.6},\n",
    "    'Tessin': {'graubunden':145.3},\n",
    "    'Luzern':{'zug':[31.0,33.4],'obwalden':24.2,'nidwalden':20.6},\n",
    "    'nidwalden':{'obwalden':26.9}\n",
    "}"
   ]
  },
  {
   "cell_type": "code",
   "execution_count": 3,
   "metadata": {},
   "outputs": [],
   "source": [
    "# créer un nouveau graphe\n",
    "G = nx.Graph()"
   ]
  },
  {
   "cell_type": "code",
   "execution_count": 4,
   "metadata": {},
   "outputs": [
    {
     "name": "stdout",
     "output_type": "stream",
     "text": [
      "Les voisins de Genève sont :\n",
      " - Vaud : 65.0 km\n",
      "Les voisins de Vaud sont :\n",
      " - Berne : [105.2, 116.1, 121.6] km\n",
      " - Valais : 148.9 km\n",
      " - Fribourg : [86.2, 81.8, 82.1] km\n",
      " - Neuchâtel : 69.2 km\n",
      "Les voisins de Valais sont :\n",
      " - Berne : [200.1, 133.0, 243.6] km\n",
      " - uri : [148.3, 226.4, 368.5] km\n",
      " - Tessin : [177.8, 250.7] km\n",
      "Les voisins de Fribourg sont :\n",
      " - Berne : 35.4 km\n",
      "Les voisins de Neuchâtel sont :\n",
      " - Jura : [68.9, 68.7, 97.5] km\n",
      " - Berne : [52.3, 69.9] km\n",
      "Les voisins de Jura sont :\n",
      " - Solothurn : [61.0, 68.9] km\n",
      "Les voisins de Berne sont :\n",
      " - uri : [172.3, 170.3, 158.8] km\n",
      " - Jura : [106.7, 109.9] km\n",
      " - Solothurn : [41.1, 37.7, 40.7] km\n",
      " - Luzern : [190.9, 96.4, 124.0] km\n",
      " - obwalden : [132.7, 102.8, 96.2] km\n",
      " - nidwalden : [128.6, 126.6, 115.1] km\n",
      "Les voisins de Solothurn sont :\n",
      " - Basel-Landschaft : [45.6, 45.8, 45.0] km\n",
      " - Aargau : 68.4 km\n",
      " - Luzern : [82.0, 85.7] km\n",
      "Les voisins de Basel-Landschaft sont :\n",
      " - Aargau : [60.1, 66.7, 63.3] km\n",
      " - Basel-Stadt : 26.1 km\n",
      "Les voisins de Aargau sont :\n",
      " - Luzern : [61.7, 49.8, 49.0] km\n",
      " - Zürich : [36.6, 44.7, 35.5] km\n",
      " - zug : [43.4, 39.2, 59.8] km\n",
      " - Basel-Stadt : [70.2, 83.6, 72.1] km\n",
      "Les voisins de Zürich sont :\n",
      " - schaffhausen : [52.7, 46.4, 52.5] km\n",
      " - thurgau : [64.5, 75.1] km\n",
      " - st.Gallen : [86.2, 82.8, 97.3] km\n",
      " - zug : [33.8, 31.5, 29.8] km\n",
      " - schwyz : [59.7, 54.5, 64.2] km\n",
      "Les voisins de thurgau sont :\n",
      " - st.Gallen : [34.4, 41.4, 41.8] km\n",
      " - schaffhausen : [69.0, 55.7, 47.5] km\n",
      "Les voisins de st.Gallen sont :\n",
      " - graubunden : [140.7, 174.2] km\n",
      " - Glarus : [88.6, 124.3, 96.9] km\n",
      " - schwyz : [114.1, 151.4, 168.5] km\n",
      "Les voisins de Glarus sont :\n",
      " - graubunden : [107.8, 102.3] km\n",
      " - schwyz : [66.4, 101.1] km\n",
      " - uri : [111.1, 142.3, 155.9] km\n",
      "Les voisins de schwyz sont :\n",
      " - uri : 43.7 km\n",
      " - nidwalden : [46.5, 63.6] km\n",
      " - Luzern : [45.3, 34.8] km\n",
      " - zug : [25.8, 37.9, 28.3] km\n",
      "Les voisins de uri sont :\n",
      " - graubunden : [196.7, 184.4] km\n",
      " - Tessin : 126.4 km\n",
      " - nidwalden : 53.6 km\n",
      "Les voisins de Tessin sont :\n",
      " - graubunden : 145.3 km\n",
      "Les voisins de Luzern sont :\n",
      " - zug : [31.0, 33.4] km\n",
      " - obwalden : 24.2 km\n",
      " - nidwalden : 20.6 km\n",
      "Les voisins de nidwalden sont :\n",
      " - obwalden : 26.9 km\n"
     ]
    }
   ],
   "source": [
    "nodes = list(adjacencies.keys())\n",
    "for node in nodes:\n",
    "    if node in adjacencies:\n",
    "        print(f\"Les voisins de {node} sont :\")\n",
    "        for neighbor in adjacencies[node]:\n",
    "            print(f\" - {neighbor} : {adjacencies[node][neighbor]} km\")\n",
    "    else:\n",
    "        print(f\"{node} n'est pas présent dans le graphe.\")"
   ]
  },
  {
   "cell_type": "code",
   "execution_count": 5,
   "metadata": {},
   "outputs": [],
   "source": [
    "# ajouter des noeuds au graphe\n",
    "#nodes = list(adjacencies.keys())\n",
    "#G.add_nodes_from(nodes)\n"
   ]
  },
  {
   "cell_type": "code",
   "execution_count": 6,
   "metadata": {},
   "outputs": [],
   "source": [
    "#for node, neighbors in adjacencies.items():\n",
    " #   for neighbor, distances in neighbors.items():\n",
    "  #      if isinstance(distances, float):\n",
    "   #         distance = distances\n",
    "    #    else:\n",
    "     #       distance = min(distances)\n",
    "      #  G.add_edge(node, neighbor, weight=distance)"
   ]
  },
  {
   "cell_type": "code",
   "execution_count": 26,
   "metadata": {},
   "outputs": [],
   "source": [
    "def graph():\n",
    "    # ajouter des noeuds au graphe\n",
    "    nodes = list(adjacencies.keys())\n",
    "    G.add_nodes_from(nodes)\n",
    "\n",
    "    for node, neighbors in adjacencies.items():\n",
    "        for neighbor, distances in neighbors.items():\n",
    "            if isinstance(distances, float):\n",
    "                distance = distances\n",
    "            else:\n",
    "                distance = min(distances)\n",
    "            G.add_edge(node, neighbor, weight=distance)\n"
   ]
  },
  {
   "cell_type": "code",
   "execution_count": 7,
   "metadata": {},
   "outputs": [
    {
     "data": {
      "image/png": "[encoded data removed]",
      "text/plain": [
       "<Figure size 640x480 with 1 Axes>"
      ]
     },
     "metadata": {},
     "output_type": "display_data"
    }
   ],
   "source": [
    "nx.draw(G, with_labels=True)"
   ]
  },
  {
   "attachments": {},
   "cell_type": "markdown",
   "metadata": {},
   "source": [
    "**Graph avec folium**"
   ]
  },
  {
   "cell_type": "code",
   "execution_count": 8,
   "metadata": {},
   "outputs": [],
   "source": [
    "import folium\n",
    "import ipywidgets"
   ]
  },
  {
   "cell_type": "code",
   "execution_count": 9,
   "metadata": {},
   "outputs": [],
   "source": [
    "# Coordonnées des villes\n",
    "coords = {\n",
    "    'Genève': (46.204391, 6.143158),\n",
    "    'Vaud': (46.561313, 6.536765),\n",
    "    'Zug':(47.166167, 8.515495),\n",
    "    'Valais': (46.190461, 7.544923),\n",
    "    'Fribourg': (46.806403, 7.153656),\n",
    "    'Neuchâtel': (46.992979, 6.931933),\n",
    "    'Jura': (46.762475, 5.672916),\n",
    "    'Berne': (47.313555, 7.444609),\n",
    "    'Solothurn': (47.208835, 7.532291),\n",
    "    'Basel-Landschaft': (47.441812, 7.764400),\n",
    "    'Basel-Stadt':(447.561925, 7.592768),\n",
    "    'schaffhaussen':(47.707766, 8.641442),\n",
    "    'Aargau': (47.390434, 8.0457015),\n",
    "    'Zürich': (47.368650, 8.539183),\n",
    "    'thurgau': (47.6321, 9.1087),\n",
    "    'st.Gallen': (47.424482, 9.376717),\n",
    "    'Glarus': (47.040427, 9.067208),\n",
    "    'Graubunden':(46.656987, 9.578026),\n",
    "    'schwyz': (47.020714, 8.652988),\n",
    "    'uri': (41.486065, -71.530854),\n",
    "    'Tessin': (46.331734, 8.800453),\n",
    "    'Luzern': (47.050038, 8.308929),\n",
    "    'nidwalden': (46.926702, 8.384998),\n",
    "    'obwalden': (46.877858, 8.251249)\n",
    "}"
   ]
  },
  {
   "cell_type": "code",
   "execution_count": 10,
   "metadata": {},
   "outputs": [
    {
     "data": {
      "application/vnd.jupyter.widget-view+json": {
       "model_id": "0aa4ed171b5746e78c95577ed012fc14",
       "version_major": 2,
       "version_minor": 0
      },
      "text/plain": [
       "interactive(children=(Select(description='Map Type:', options=('Open Street Map', 'Terrain', 'Toner', 'Waterco…"
      ]
     },
     "metadata": {},
     "output_type": "display_data"
    },
    {
     "data": {
      "text/plain": [
       "<function __main__.select(map_type)>"
      ]
     },
     "execution_count": 10,
     "metadata": {},
     "output_type": "execute_result"
    }
   ],
   "source": [
    "# show map types using ipywidgets\n",
    "\n",
    "# widget\n",
    "select_widget=ipywidgets.Select(\n",
    "    options=['Open Street Map', 'Terrain', 'Toner', 'Watercolor', 'Positron', 'Dark Matter'],\n",
    "    value='Open Street Map',\n",
    "    description='Map Type:',\n",
    "    disabled=False)\n",
    "\n",
    "# Initialisation de la carte centrée sur la Suisse\n",
    "m = folium.Map(location=[46.8182, 8.2275], zoom_start=8)\n",
    "\n",
    "# Ajout des marqueurs pour chaque ville\n",
    "for ville, coord in coords.items():\n",
    "    folium.Marker(location=coord, popup=ville).add_to(m)\n",
    "    \n",
    "# Affichage de la carte\n",
    "m\n",
    "# widget function\n",
    "def select(map_type):\n",
    "    if map_type == 'Open Street Map':\n",
    "        display(m)\n",
    "    if map_type == 'Terrain':\n",
    "        display(folium.Map(location=[46.815514 , 8.224472], tiles='Stamen Terrain', zoom_start=8, height=400))\n",
    "    if map_type == 'Toner':\n",
    "        display(folium.Map(location=[46.815514 , 8.224472], tiles='Stamen Toner', zoom_start=8, height=400))\n",
    "    if map_type == 'Watercolor':\n",
    "        display(folium.Map(location=[46.815514 , 8.224472], tiles='Stamen Watercolor', zoom_start=8, height=400))\n",
    "    if map_type == 'Positron':\n",
    "        display(folium.Map(location=[46.815514 , 8.224472], tiles='CartoDB Positron', zoom_start=8, height=400))\n",
    "    if map_type == 'Dark Matter':\n",
    "        display(folium.Map(location=[46.815514 , 8.224472], tiles='CartoDB Dark_Matter', zoom_start=8, height=400))\n",
    "    #if map_type == 'Satellite':\n",
    "    #    display(folium.Map(location=[46.815514 , 8.224472], tiles='CartoDB positron', zoom_start=8, height=400))\n",
    "    \n",
    "# interaction between widgets and function    \n",
    "ipywidgets.interact(select, map_type=select_widget)"
   ]
  },
  {
   "attachments": {},
   "cell_type": "markdown",
   "metadata": {},
   "source": [
    "**algorithms** "
   ]
  },
  {
   "cell_type": "code",
   "execution_count": 11,
   "metadata": {},
   "outputs": [
    {
     "name": "stdout",
     "output_type": "stream",
     "text": [
      "Donner le point de départ : Genève\n",
      "[('Genève', 'Vaud'), ('Vaud', 'Berne'), ('Berne', 'Valais'), ('Valais', 'uri'), ('uri', 'Glarus'), ('Glarus', 'st.Gallen'), ('st.Gallen', 'Zürich'), ('Zürich', 'Aargau'), ('Aargau', 'Solothurn'), ('Solothurn', 'Jura'), ('Jura', 'Neuchâtel'), ('Solothurn', 'Basel-Landschaft'), ('Basel-Landschaft', 'Basel-Stadt'), ('Solothurn', 'Luzern'), ('Luzern', 'schwyz'), ('schwyz', 'nidwalden'), ('nidwalden', 'obwalden'), ('schwyz', 'zug'), ('Zürich', 'schaffhausen'), ('schaffhausen', 'thurgau'), ('st.Gallen', 'graubunden'), ('graubunden', 'Tessin'), ('Berne', 'Fribourg')]\n"
     ]
    }
   ],
   "source": [
    "#Parcours en profondeur : \n",
    "depart = input(\"Donner le point de départ : \")\n",
    "dfs_edges = list(nx.dfs_edges(G, source=depart))\n",
    "print(dfs_edges)"
   ]
  },
  {
   "cell_type": "code",
   "execution_count": 12,
   "metadata": {},
   "outputs": [
    {
     "name": "stdout",
     "output_type": "stream",
     "text": [
      "Donner le point de départ : Tessin\n",
      "[('Tessin', 'Valais'), ('Tessin', 'uri'), ('Tessin', 'graubunden'), ('Valais', 'Vaud'), ('Valais', 'Berne'), ('uri', 'Glarus'), ('uri', 'schwyz'), ('uri', 'nidwalden'), ('graubunden', 'st.Gallen'), ('Vaud', 'Genève'), ('Vaud', 'Fribourg'), ('Vaud', 'Neuchâtel'), ('Berne', 'Jura'), ('Berne', 'Solothurn'), ('Berne', 'Luzern'), ('Berne', 'obwalden'), ('schwyz', 'Zürich'), ('schwyz', 'zug'), ('st.Gallen', 'thurgau'), ('Solothurn', 'Basel-Landschaft'), ('Solothurn', 'Aargau'), ('Zürich', 'schaffhausen'), ('Basel-Landschaft', 'Basel-Stadt')]\n"
     ]
    }
   ],
   "source": [
    "#Parcours en largeur : \n",
    "depart = input(\"Donner le point de départ : \")\n",
    "bfs_edges = list(nx.bfs_edges(G, source=depart))\n",
    "print(bfs_edges)"
   ]
  },
  {
   "cell_type": "code",
   "execution_count": 13,
   "metadata": {},
   "outputs": [
    {
     "name": "stdout",
     "output_type": "stream",
     "text": [
      "Donner le point de départ : Genève\n",
      "Donner le point d'arrivée : Berne\n",
      "The shortest path between Genève and Berne is: ['Genève', 'Vaud', 'Berne']\n",
      "The shortest distance between Genève and Berne is: 170.2 km\n"
     ]
    }
   ],
   "source": [
    "#dijkstra\n",
    "def dijkstra(G, city1, city2):\n",
    "    distance = nx.dijkstra_path_length(G, city1, city2)\n",
    "    path = nx.dijkstra_path(G, city1, city2)\n",
    "    print(f\"The shortest path between {city1} and {city2} is: {path}\")\n",
    "    print(f\"The shortest distance between {city1} and {city2} is: {distance} km\") \n",
    "    #return path, distance\n",
    "\n",
    "city1 = input(\"Donner le point de départ : \")\n",
    "city2=input(\"Donner le point d'arrivée : \")\n",
    "# Call dijkstra function\n",
    "dijkstra(G, city1, city2)"
   ]
  },
  {
   "cell_type": "code",
   "execution_count": 14,
   "metadata": {},
   "outputs": [
    {
     "name": "stdout",
     "output_type": "stream",
     "text": [
      "Donner le point de départ : Genève\n",
      "Donner le point d'arrivée : Berne\n",
      "The shortest path between Genève and Berne is: ['Genève', 'Vaud', 'Berne']\n",
      "The shortest distance between Genève and Berne is: 170.2 km\n"
     ]
    }
   ],
   "source": [
    "#bellman_ford\n",
    "def bellman_ford(G, city1, city2):\n",
    "    # Calculate the shortest path and distance between two cities using Bellman-Ford algorithm\n",
    "\n",
    "    path = list(nx.bellman_ford_path(G, source=city1,target=city2))\n",
    "    distance = nx.bellman_ford_path_length(G, city1, city2)\n",
    "    \n",
    "    # Print the shortest path and distance\n",
    "    print(f\"The shortest path between {city1} and {city2} is: {path}\")\n",
    "    print(f\"The shortest distance between {city1} and {city2} is: {distance} km\")\n",
    "    \n",
    "    return path,distance\n",
    "\n",
    "city1 = input(\"Donner le point de départ : \")\n",
    "city2 = input(\"Donner le point d'arrivée : \")\n",
    "distance = bellman_ford(G, city1, city2)"
   ]
  },
  {
   "cell_type": "code",
   "execution_count": 15,
   "metadata": {},
   "outputs": [
    {
     "name": "stdout",
     "output_type": "stream",
     "text": [
      "Donner le point de départ : Genève\n",
      "Donner le point d'arrivée : Berne\n"
     ]
    },
    {
     "data": {
      "text/plain": [
       "['Genève', 'Vaud', 'Berne']"
      ]
     },
     "execution_count": 15,
     "metadata": {},
     "output_type": "execute_result"
    }
   ],
   "source": [
    "#Algorithme to find the shortest path \n",
    "#Fama mochkla f chemin binet quelques villes mech lkol \n",
    "\n",
    "import heapq\n",
    "\n",
    "def shortest_path(adjacencies, start, goal):\n",
    "    # Create a dictionary to store the distances from the start node to all other nodes\n",
    "    distances = {node: float('inf') for node in adjacencies}\n",
    "    distances[start] = 0\n",
    "\n",
    "    # Create a priority queue to store the nodes to be visited\n",
    "    queue = [(0, start)]  # (distance, node)\n",
    "\n",
    "    # Create a dictionary to store the previous node in the shortest path\n",
    "    previous = {}\n",
    "\n",
    "    while queue:\n",
    "        current_distance, current_node = heapq.heappop(queue)\n",
    "\n",
    "        # Check if the current node is the goal\n",
    "        if current_node == goal:\n",
    "            path = []\n",
    "            while current_node in previous:\n",
    "                path.append(current_node)\n",
    "                current_node = previous[current_node]\n",
    "            path.append(start)\n",
    "            path.reverse()\n",
    "            return path\n",
    "\n",
    "        # Check if the current distance is smaller than the recorded distance for the current node\n",
    "        if current_distance > distances[current_node]:\n",
    "            continue\n",
    "\n",
    "        # Explore the neighboring nodes\n",
    "        neighbors = adjacencies[current_node]\n",
    "        for neighbor, distance in neighbors.items():\n",
    "            if isinstance(distance, list):\n",
    "                min_distance = min(distance)  # Use the minimum distance if multiple distances are available\n",
    "            else:\n",
    "                min_distance = distance\n",
    "\n",
    "            new_distance = current_distance + min_distance\n",
    "\n",
    "            # Check if the new distance is smaller than the recorded distance for the neighbor\n",
    "            if new_distance < distances[neighbor]:\n",
    "                distances[neighbor] = new_distance\n",
    "                previous[neighbor] = current_node\n",
    "                heapq.heappush(queue, (new_distance, neighbor))\n",
    "\n",
    "    # If no path is found\n",
    "    return None\n",
    "\n",
    "start = input(\"Donner le point de départ : \")\n",
    "goal=input(\"Donner le point d'arrivée : \")\n",
    "shortest_path(adjacencies, start, goal)"
   ]
  },
  {
   "cell_type": "code",
   "execution_count": 16,
   "metadata": {},
   "outputs": [
    {
     "ename": "AttributeError",
     "evalue": "'Graph' object has no attribute 'items'",
     "output_type": "error",
     "traceback": [
      "\u001b[1;31m---------------------------------------------------------------------------\u001b[0m",
      "\u001b[1;31mAttributeError\u001b[0m                            Traceback (most recent call last)",
      "\u001b[1;32mC:\\Program Files\\KMSpico\\temp\\ipykernel_4328\\1638952044.py\u001b[0m in \u001b[0;36m<module>\u001b[1;34m\u001b[0m\n\u001b[0;32m     23\u001b[0m     \u001b[1;32mreturn\u001b[0m \u001b[0mdist\u001b[0m\u001b[1;33m\u001b[0m\u001b[1;33m\u001b[0m\u001b[0m\n\u001b[0;32m     24\u001b[0m \u001b[1;33m\u001b[0m\u001b[0m\n\u001b[1;32m---> 25\u001b[1;33m \u001b[0mshortest_distances\u001b[0m \u001b[1;33m=\u001b[0m \u001b[0mfloyd_warshall\u001b[0m\u001b[1;33m(\u001b[0m\u001b[0mG\u001b[0m\u001b[1;33m)\u001b[0m\u001b[1;33m\u001b[0m\u001b[1;33m\u001b[0m\u001b[0m\n\u001b[0m\u001b[0;32m     26\u001b[0m \u001b[1;33m\u001b[0m\u001b[0m\n\u001b[0;32m     27\u001b[0m \u001b[0mstart_node\u001b[0m \u001b[1;33m=\u001b[0m \u001b[0minput\u001b[0m\u001b[1;33m(\u001b[0m\u001b[1;34m\"Donner le point de départ : \"\u001b[0m\u001b[1;33m)\u001b[0m\u001b[1;33m\u001b[0m\u001b[1;33m\u001b[0m\u001b[0m\n",
      "\u001b[1;32mC:\\Program Files\\KMSpico\\temp\\ipykernel_4328\\1638952044.py\u001b[0m in \u001b[0;36mfloyd_warshall\u001b[1;34m(G)\u001b[0m\n\u001b[0;32m      6\u001b[0m \u001b[1;32mdef\u001b[0m \u001b[0mfloyd_warshall\u001b[0m\u001b[1;33m(\u001b[0m\u001b[0mG\u001b[0m\u001b[1;33m)\u001b[0m\u001b[1;33m:\u001b[0m\u001b[1;33m\u001b[0m\u001b[1;33m\u001b[0m\u001b[0m\n\u001b[0;32m      7\u001b[0m     \u001b[1;31m# Create a copy of the graph\u001b[0m\u001b[1;33m\u001b[0m\u001b[1;33m\u001b[0m\u001b[0m\n\u001b[1;32m----> 8\u001b[1;33m     \u001b[0mdist\u001b[0m \u001b[1;33m=\u001b[0m \u001b[1;33m{\u001b[0m\u001b[0mnode\u001b[0m\u001b[1;33m:\u001b[0m \u001b[0mdict\u001b[0m\u001b[1;33m(\u001b[0m\u001b[0mneighbors\u001b[0m\u001b[1;33m)\u001b[0m \u001b[1;32mfor\u001b[0m \u001b[0mnode\u001b[0m\u001b[1;33m,\u001b[0m \u001b[0mneighbors\u001b[0m \u001b[1;32min\u001b[0m \u001b[0mG\u001b[0m\u001b[1;33m.\u001b[0m\u001b[0mitems\u001b[0m\u001b[1;33m(\u001b[0m\u001b[1;33m)\u001b[0m\u001b[1;33m}\u001b[0m\u001b[1;33m\u001b[0m\u001b[1;33m\u001b[0m\u001b[0m\n\u001b[0m\u001b[0;32m      9\u001b[0m \u001b[1;33m\u001b[0m\u001b[0m\n\u001b[0;32m     10\u001b[0m     \u001b[1;31m# Initialize distances between nodes\u001b[0m\u001b[1;33m\u001b[0m\u001b[1;33m\u001b[0m\u001b[0m\n",
      "\u001b[1;31mAttributeError\u001b[0m: 'Graph' object has no attribute 'items'"
     ]
    }
   ],
   "source": [
    "#Hedha fih mochkla w ma habech yekhdem \n",
    "#floyd_warshall algorithm \n",
    "\n",
    "import math\n",
    "\n",
    "def floyd_warshall(G):\n",
    "    # Create a copy of the graph\n",
    "    dist = {node: dict(neighbors) for node, neighbors in G.items()}\n",
    "\n",
    "    # Initialize distances between nodes\n",
    "    for i in dist:\n",
    "        for j in dist:\n",
    "            if i != j and j not in dist[i]:\n",
    "                dist[i][j] = math.inf\n",
    "\n",
    "    # Compute shortest paths\n",
    "    for k in dist:\n",
    "        for i in dist:\n",
    "            for j in dist:\n",
    "                if dist[i][j] > dist[i][k] + dist[k][j]:\n",
    "                    dist[i][j] = dist[i][k] + dist[k][j]\n",
    "\n",
    "    return dist\n",
    "\n",
    "shortest_distances = floyd_warshall(G)\n",
    "\n",
    "start_node = input(\"Donner le point de départ : \")\n",
    "goal_node=input(\"Donner le point d'arrivée : \")\n",
    "\n",
    "# Print the shortest path if it exists\n",
    "if shortest_distances[start_node][goal_node] != math.inf:\n",
    "    path = nx.shortest_path(G, start_node, goal_node, weight='weight')\n",
    "    print(f\"Shortest path from {start_node} to {goal_node}:\")\n",
    "    print(\" -> \".join(path))\n",
    "else:\n",
    "    print(f\"No path found from {start_node} to {goal_node}.\")"
   ]
  },
  {
   "cell_type": "code",
   "execution_count": 17,
   "metadata": {},
   "outputs": [],
   "source": [
    "import tkinter as tk\n",
    "\n",
    "class Main:\n",
    "    def __init__(self, master):\n",
    "        self.master = master\n",
    "        master.title(\"Menu\")\n",
    "        self.choice = None\n",
    "        \n",
    "        self.label = tk.Label(master, text=\"Choisissez l'algorithme de votre choix :\")\n",
    "        self.label.pack()\n",
    "        \n",
    "        self.button1 = tk.Button(master, text=\"Recherche en profondeur\", command=self.choose_1)\n",
    "        self.button1.pack()\n",
    "        \n",
    "        self.button2 = tk.Button(master, text=\"Recherche en largeur\", command=self.choose_2)\n",
    "        self.button2.pack()\n",
    "        \n",
    "        self.button3 = tk.Button(master, text=\"Algorithme de Dijkstra\", command=self.choose_3)\n",
    "        self.button3.pack()\n",
    "        \n",
    "        self.button4 = tk.Button(master, text=\"Algorithme de Bellman-Ford\", command=self.choose_4)\n",
    "        self.button4.pack()\n",
    "        \n",
    "        self.quit_button = tk.Button(master, text=\"Quitter\", command=master.quit)\n",
    "        self.quit_button.pack()\n",
    "    \n",
    "    def choose_1(self):\n",
    "        self.choice = 1\n",
    "        print(\"Vous avez choisi la recherche en profondeur.\")\n",
    "        self.master.destroy()\n",
    "        \n",
    "    def choose_2(self):\n",
    "        self.choice = 2\n",
    "        print(\"Vous avez choisi la recherche en largeur.\")\n",
    "        self.master.destroy()\n",
    "        \n",
    "    def choose_3(self):\n",
    "        self.choice = 3\n",
    "        print(\"Vous avez choisi l'algorithme de Dijkstra.\")\n",
    "        self.master.destroy()\n",
    "        \n",
    "    def choose_4(self):\n",
    "        self.choice = 4\n",
    "        print(\"Vous avez choisi l'algorithme de Bellman-Ford.\")\n",
    "        self.master.destroy()\n",
    "        \n",
    "    def get_choice(self):\n",
    "        return self.choice\n"
   ]
  },
  {
   "cell_type": "code",
   "execution_count": 21,
   "metadata": {},
   "outputs": [
    {
     "name": "stdout",
     "output_type": "stream",
     "text": [
      "Donner le point de départ : Genève\n",
      "Donner le point d'arrivée : Vaud\n",
      "['Genève', 'Vaud']\n"
     ]
    }
   ],
   "source": [
    "import networkx as nx\n",
    "\n",
    "def dfs_path(G, start, goal):\n",
    "    \"\"\"\n",
    "    Recherche d'un chemin en profondeur entre le noeud start et le noeud goal dans le graphe graph.\n",
    "    \n",
    "    \"\"\"\n",
    "    start = input(\"Donner le point de départ : \")\n",
    "    goal =input(\"Donner le point d'arrivée : \")\n",
    "    \n",
    "    visited = set()  # ensemble des noeuds déjà visités\n",
    "    stack = [(start, [start])]  # pile contenant les noeuds à visiter et leur chemin parcouru jusqu'à présent\n",
    "    \n",
    "    while stack:\n",
    "        (node, path) = stack.pop()  # noeud actuel et chemin parcouru jusqu'à présent\n",
    "        if node not in visited:\n",
    "            visited.add(node)\n",
    "            if node == goal:\n",
    "                return path  # chemin trouvé\n",
    "            for neighbor in G[node]:\n",
    "                if neighbor not in visited:\n",
    "                    stack.append((neighbor, path + [neighbor]))  # ajouter le voisin à la pile avec son chemin parcouru jusqu'à présent\n",
    "    \n",
    "    return None  # pas de chemin trouvé\n",
    "\n",
    "# Exemple d'utilisation\n",
    "#graph = nx.Graph()\n",
    "#graph.add_edges_from([(1, 2), (1, 3), (2, 4), (3, 4), (4, 5), (4, 6), (5, 6)])\n",
    "#start = 1\n",
    "#goal = 6\n",
    "path = dfs_path(G, start, goal)\n",
    "print(path)\n"
   ]
  },
  {
   "cell_type": "code",
   "execution_count": 24,
   "metadata": {},
   "outputs": [
    {
     "name": "stdout",
     "output_type": "stream",
     "text": [
      "Donner le point de départ : Genève\n",
      "Donner le point d'arrivée : Tessin\n",
      "['Genève', 'Vaud', 'Valais', 'Tessin']\n"
     ]
    }
   ],
   "source": [
    "import networkx as nx\n",
    "\n",
    "def bfs_path(G, start, goal):\n",
    "    \"\"\"\n",
    "    Recherche d'un chemin en largeur entre le noeud start et le noeud goal dans le graphe graph.\n",
    "    \"\"\"\n",
    "    start = input(\"Donner le point de départ : \")\n",
    "    goal =input(\"Donner le point d'arrivée : \")\n",
    "    \n",
    "    visited = set()  # ensemble des noeuds déjà visités\n",
    "    queue = [(start, [start])]  # file contenant les noeuds à visiter et leur chemin parcouru jusqu'à présent\n",
    "    \n",
    "    while queue:\n",
    "        (node, path) = queue.pop(0)  # noeud actuel et chemin parcouru jusqu'à présent\n",
    "        if node not in visited:\n",
    "            visited.add(node)\n",
    "            if node == goal:\n",
    "                return path  # chemin trouvé\n",
    "            for neighbor in G[node]:\n",
    "                if neighbor not in visited:\n",
    "                    queue.append((neighbor, path + [neighbor]))  # ajouter le voisin à la file avec son chemin parcouru jusqu'à présent\n",
    "    \n",
    "    return None  # pas de chemin trouvé\n",
    "\n",
    "# Exemple d'utilisation\n",
    "\n",
    "path = bfs_path(G, start, goal)\n",
    "print(path)\n"
   ]
  },
  {
   "cell_type": "code",
   "execution_count": 25,
   "metadata": {},
   "outputs": [],
   "source": [
    "class Main:\n",
    "    def __init__(self):\n",
    "        self.choice = None\n",
    "    \n",
    "    def display_menu(self):\n",
    "        print(\"Choisissez l'algorithme de votre choix :\")\n",
    "        print(\"Pour la recherche en profondeur, tapez 1\")\n",
    "        print(\"Pour la recherche en largeur, tapez 2\")\n",
    "        print(\"Pour l'algorithme de Dijkstra, tapez 3\")\n",
    "        print(\"Pour l'algorithme de Bellman-Ford, tapez 4\")\n",
    "        print(\"Pour quitter, tapez 0\")\n",
    "    \n",
    "    def get_choice(self):\n",
    "        while True:\n",
    "            try:\n",
    "                self.choice = int(input())\n",
    "                if self.choice not in [0, 1, 2, 3, 4]:\n",
    "                    print(\"Choix non valide, veuillez réessayer.\")\n",
    "                    continue\n",
    "                else:\n",
    "                    break\n",
    "            except ValueError:\n",
    "                print(\"Erreur : entrée non valide\")\n",
    "                continue\n",
    "    \n",
    "    def run_algorithm(self):\n",
    "        if self.choice == 0:\n",
    "            print(\"Au revoir !\")\n",
    "        elif self.choice == 1:\n",
    "            print(\"Vous avez choisi la recherche en profondeur.\")\n",
    "            # Appel à la fonction pour la recherche en profondeur\n",
    "        elif self.choice == 2:\n",
    "            print(\"Vous avez choisi la recherche en largeur.\")\n",
    "            # Appel à la fonction pour la recherche en largeur\n",
    "        elif self.choice == 3:\n",
    "            print(\"Vous avez choisi l'algorithme de Dijkstra.\")\n",
    "            # Appel à la fonction pour l'algorithme de Dijkstra\n",
    "        elif self.choice == 4:\n",
    "            print(\"Vous avez choisi l'algorithme de Bellman-Ford.\")\n",
    "            # Appel à la fonction pour l'algorithme de Bellman-Ford\n",
    "    \n",
    "    def start(self):\n",
    "        while True:\n",
    "            self.display_menu()\n",
    "            self.get_choice()\n",
    "            self.run_algorithm()\n",
    "            if self.choice == 0:\n",
    "                break"
   ]
  },
  {
   "cell_type": "code",
   "execution_count": 27,
   "metadata": {},
   "outputs": [
    {
     "ename": "NameError",
     "evalue": "name 'self' is not defined",
     "output_type": "error",
     "traceback": [
      "\u001b[1;31m---------------------------------------------------------------------------\u001b[0m",
      "\u001b[1;31mNameError\u001b[0m                                 Traceback (most recent call last)",
      "\u001b[1;32mC:\\Program Files\\KMSpico\\temp\\ipykernel_4328\\2486805377.py\u001b[0m in \u001b[0;36m<module>\u001b[1;34m\u001b[0m\n\u001b[1;32m----> 1\u001b[1;33m \u001b[0mstart\u001b[0m\u001b[1;33m(\u001b[0m\u001b[0mself\u001b[0m\u001b[1;33m)\u001b[0m\u001b[1;33m\u001b[0m\u001b[1;33m\u001b[0m\u001b[0m\n\u001b[0m",
      "\u001b[1;31mNameError\u001b[0m: name 'self' is not defined"
     ]
    }
   ],
   "source": [
    "start(self)"
   ]
  },
  {
   "cell_type": "code",
   "execution_count": null,
   "metadata": {},
   "outputs": [],
   "source": []
  }
 ],
 "metadata": {
  "kernelspec": {
   "display_name": "Python 3 (ipykernel)",
   "language": "python",
   "name": "python3"
  },
  "language_info": {
   "codemirror_mode": {
    "name": "ipython",
    "version": 3
   },
   "file_extension": ".py",
   "mimetype": "text/x-python",
   "name": "python",
   "nbconvert_exporter": "python",
   "pygments_lexer": "ipython3",
   "version": "3.10.11"
  }
 },
 "nbformat": 4,
 "nbformat_minor": 2
}
